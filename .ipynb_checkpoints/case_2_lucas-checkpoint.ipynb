{
 "cells": [
  {
   "cell_type": "code",
   "execution_count": 1,
   "metadata": {},
   "outputs": [],
   "source": [
    "import sys\n",
    "sys.path.append(\"C:\\\\Users\\\\lucas\\\\AppData\\\\Local\\\\Programs\\\\Python\\\\Python36\\\\Lib\\\\site-packages\")\n",
    "\n",
    "import os\n",
    "import gc\n",
    "import re\n",
    "import sys\n",
    "import math\n",
    "import nltk\n",
    "import pickle\n",
    "import unidecode\n",
    "import numpy as np\n",
    "import pandas as pd\n",
    "\n",
    "from tqdm.auto import tqdm\n",
    "from collections import defaultdict\n",
    "from sklearn.metrics.pairwise import cosine_similarity\n",
    "from sklearn.feature_extraction.text import CountVectorizer, TfidfTransformer, TfidfVectorizer\n",
    "\n",
    "pd.set_option('display.max_rows', None)\n",
    "pd.set_option('display.max_columns', None)\n",
    "pd.set_option('display.width', None)\n",
    "pd.set_option('display.max_colwidth', None)"
   ]
  },
  {
   "cell_type": "markdown",
   "metadata": {},
   "source": [
    "### Load Data"
   ]
  },
  {
   "cell_type": "code",
   "execution_count": 3,
   "metadata": {},
   "outputs": [
    {
     "name": "stdout",
     "output_type": "stream",
     "text": [
      "<class 'pandas.core.frame.DataFrame'>\n",
      "RangeIndex: 30000 entries, 0 to 29999\n",
      "Data columns (total 1 columns):\n",
      " #   Column          Non-Null Count  Dtype \n",
      "---  ------          --------------  ----- \n",
      " 0   ITE_ITEM_TITLE  30000 non-null  object\n",
      "dtypes: object(1)\n",
      "memory usage: 234.5+ KB\n"
     ]
    }
   ],
   "source": [
    "df_titles = pd.read_csv('items_titles.csv')\n",
    "df_titles.info()"
   ]
  },
  {
   "cell_type": "code",
   "execution_count": 4,
   "metadata": {},
   "outputs": [
    {
     "data": {
      "text/html": [
       "<div>\n",
       "<style scoped>\n",
       "    .dataframe tbody tr th:only-of-type {\n",
       "        vertical-align: middle;\n",
       "    }\n",
       "\n",
       "    .dataframe tbody tr th {\n",
       "        vertical-align: top;\n",
       "    }\n",
       "\n",
       "    .dataframe thead th {\n",
       "        text-align: right;\n",
       "    }\n",
       "</style>\n",
       "<table border=\"1\" class=\"dataframe\">\n",
       "  <thead>\n",
       "    <tr style=\"text-align: right;\">\n",
       "      <th></th>\n",
       "      <th>ITE_ITEM_TITLE</th>\n",
       "    </tr>\n",
       "  </thead>\n",
       "  <tbody>\n",
       "    <tr>\n",
       "      <th>0</th>\n",
       "      <td>Tênis Ascension Posh Masculino - Preto E Vermelho</td>\n",
       "    </tr>\n",
       "    <tr>\n",
       "      <th>1</th>\n",
       "      <td>Tenis Para Caminhada Super Levinho Spider Corrida</td>\n",
       "    </tr>\n",
       "    <tr>\n",
       "      <th>2</th>\n",
       "      <td>Tênis Feminino Le Parc Hocks Black/ice Original Envio Já</td>\n",
       "    </tr>\n",
       "    <tr>\n",
       "      <th>3</th>\n",
       "      <td>Tênis Olympikus Esportivo Academia Nova Tendência Triunfo</td>\n",
       "    </tr>\n",
       "    <tr>\n",
       "      <th>4</th>\n",
       "      <td>Inteligente Led Bicicleta Tauda Luz Usb Bicicleta Carregáve</td>\n",
       "    </tr>\n",
       "  </tbody>\n",
       "</table>\n",
       "</div>"
      ],
      "text/plain": [
       "                                                ITE_ITEM_TITLE\n",
       "0           Tênis Ascension Posh Masculino - Preto E Vermelho \n",
       "1           Tenis Para Caminhada Super Levinho Spider Corrida \n",
       "2     Tênis Feminino Le Parc Hocks Black/ice Original Envio Já\n",
       "3   Tênis Olympikus Esportivo Academia Nova Tendência Triunfo \n",
       "4  Inteligente Led Bicicleta Tauda Luz Usb Bicicleta Carregáve"
      ]
     },
     "execution_count": 4,
     "metadata": {},
     "output_type": "execute_result"
    }
   ],
   "source": [
    "df_titles.head()"
   ]
  },
  {
   "cell_type": "code",
   "execution_count": 5,
   "metadata": {},
   "outputs": [],
   "source": [
    "#Original size of titles\n",
    "df_titles['length'] = df_titles['ITE_ITEM_TITLE'].str.len()"
   ]
  },
  {
   "cell_type": "markdown",
   "metadata": {},
   "source": [
    "### Numbers"
   ]
  },
  {
   "cell_type": "markdown",
   "metadata": {},
   "source": [
    "#### Hypothesis -> numbers are not important for the comparison"
   ]
  },
  {
   "cell_type": "code",
   "execution_count": 6,
   "metadata": {},
   "outputs": [],
   "source": [
    "def detect_numbers(text):\n",
    "    if not re.search('\\d+', text):\n",
    "        return 0\n",
    "    else:\n",
    "        return 1\n",
    "    \n",
    "df_titles['numbers_'] = df_titles['ITE_ITEM_TITLE'].apply(lambda x: detect_numbers(x))"
   ]
  },
  {
   "cell_type": "code",
   "execution_count": 7,
   "metadata": {},
   "outputs": [
    {
     "data": {
      "text/plain": [
       "0.48313333333333336"
      ]
     },
     "execution_count": 7,
     "metadata": {},
     "output_type": "execute_result"
    }
   ],
   "source": [
    "#Rate of titles containing numeric values\n",
    "df_titles[df_titles['numbers_']==1].shape[0]/df_titles.shape[0]"
   ]
  },
  {
   "cell_type": "markdown",
   "metadata": {},
   "source": [
    "##### Due to almost half of data containing numbers, i've decided not to filter it. And check the results."
   ]
  },
  {
   "cell_type": "markdown",
   "metadata": {},
   "source": [
    "### Cleaning dataset"
   ]
  },
  {
   "cell_type": "code",
   "execution_count": 8,
   "metadata": {},
   "outputs": [],
   "source": [
    "def regex_all(text):\n",
    "    regex_chat1 = re.compile(r'([^\\w|:|\\|]+|[\\ ]{2,})')\n",
    "    new_text = regex_chat1.sub(' ',unidecode.unidecode(text).lower()).strip()\n",
    "    return new_text\n",
    "\n",
    "df_titles['ITE_ITEM_TITLE_'] = df_titles['ITE_ITEM_TITLE'].apply(lambda x: regex_all(x))\n",
    "\n",
    "#Calculate new size of titles\n",
    "df_titles['length_'] = df_titles['ITE_ITEM_TITLE_'].str.len()"
   ]
  },
  {
   "cell_type": "markdown",
   "metadata": {},
   "source": [
    "#### Stop words  will be considered on the sklearn Tf-Idf implementation"
   ]
  },
  {
   "cell_type": "code",
   "execution_count": 10,
   "metadata": {},
   "outputs": [
    {
     "name": "stderr",
     "output_type": "stream",
     "text": [
      "[nltk_data] Downloading package stopwords to\n",
      "[nltk_data]     C:\\Users\\lucas\\AppData\\Roaming\\nltk_data...\n",
      "[nltk_data]   Package stopwords is already up-to-date!\n"
     ]
    }
   ],
   "source": [
    "# download portuguese stopwords from the NLTK library\n",
    "nltk.download('stopwords')\n",
    "stopwords = nltk.corpus.stopwords.words('portuguese')"
   ]
  },
  {
   "cell_type": "code",
   "execution_count": 12,
   "metadata": {},
   "outputs": [],
   "source": [
    "#Remove Stopwords\n",
    "df_titles['ITE_ITEM_TITLE__'] = df_titles['ITE_ITEM_TITLE_'].apply(lambda x: ' '.join([word for word in x.split() if word not in (stopwords)]))\n",
    "#Calculate new size of titles\n",
    "df_titles['length__'] = df_titles['ITE_ITEM_TITLE__'].str.len()"
   ]
  },
  {
   "cell_type": "markdown",
   "metadata": {},
   "source": [
    "### Statistics about data cleaning"
   ]
  },
  {
   "cell_type": "code",
   "execution_count": 18,
   "metadata": {},
   "outputs": [
    {
     "name": "stdout",
     "output_type": "stream",
     "text": [
      "Regex affected 10295 titles\n",
      "Mean of characters removed after regex:  0.6731333333333334\n",
      "Max of characters removed after regex:  27\n"
     ]
    }
   ],
   "source": [
    "df_titles['char_diff_regex'] = df_titles['length'] - df_titles['length_']\n",
    "print(f\"Regex affected {df_titles[df_titles['char_diff_regex']>0].shape[0]} titles\")\n",
    "print(f'Mean of characters removed after regex: ',np.mean(df_titles['char_diff_regex']))\n",
    "print(f'Max of characters removed after regex: ',np.max(df_titles['char_diff_regex']))"
   ]
  },
  {
   "cell_type": "code",
   "execution_count": 19,
   "metadata": {},
   "outputs": [
    {
     "name": "stdout",
     "output_type": "stream",
     "text": [
      "Removing stopwords affected 6801 titles\n",
      "Mean of characters removed after stopwords:  0.9077333333333333\n",
      "Max of characters removed after stopwords:  23\n"
     ]
    }
   ],
   "source": [
    "df_titles['char_diff_stopwords'] = df_titles['length_'] - df_titles['length__']\n",
    "print(f\"Removing stopwords affected {df_titles[df_titles['char_diff_stopwords']>0].shape[0]} titles\")\n",
    "print(f'Mean of characters removed after stopwords: ',np.mean(df_titles['char_diff_stopwords']))\n",
    "print(f'Max of characters removed after stopwords: ',np.max(df_titles['char_diff_stopwords']))"
   ]
  },
  {
   "cell_type": "markdown",
   "metadata": {},
   "source": [
    "#### Load Test Set"
   ]
  },
  {
   "cell_type": "code",
   "execution_count": 21,
   "metadata": {},
   "outputs": [],
   "source": [
    "df_titles_test = pd.read_csv('arquivos_teste/items_titles_test.csv')"
   ]
  },
  {
   "cell_type": "code",
   "execution_count": 22,
   "metadata": {},
   "outputs": [
    {
     "data": {
      "text/plain": [
       "(10000, 1)"
      ]
     },
     "execution_count": 22,
     "metadata": {},
     "output_type": "execute_result"
    }
   ],
   "source": [
    "df_titles_test.shape"
   ]
  },
  {
   "cell_type": "code",
   "execution_count": 23,
   "metadata": {},
   "outputs": [],
   "source": [
    "#Clean it\n",
    "df_titles_test['ITE_ITEM_TITLE_'] = df_titles_test['ITE_ITEM_TITLE'].apply(lambda x: regex_all(x))"
   ]
  },
  {
   "cell_type": "code",
   "execution_count": 24,
   "metadata": {},
   "outputs": [
    {
     "data": {
      "text/html": [
       "<div>\n",
       "<style scoped>\n",
       "    .dataframe tbody tr th:only-of-type {\n",
       "        vertical-align: middle;\n",
       "    }\n",
       "\n",
       "    .dataframe tbody tr th {\n",
       "        vertical-align: top;\n",
       "    }\n",
       "\n",
       "    .dataframe thead th {\n",
       "        text-align: right;\n",
       "    }\n",
       "</style>\n",
       "<table border=\"1\" class=\"dataframe\">\n",
       "  <thead>\n",
       "    <tr style=\"text-align: right;\">\n",
       "      <th></th>\n",
       "      <th>ITE_ITEM_TITLE</th>\n",
       "      <th>ITE_ITEM_TITLE_</th>\n",
       "    </tr>\n",
       "  </thead>\n",
       "  <tbody>\n",
       "    <tr>\n",
       "      <th>0</th>\n",
       "      <td>Tênis Olympikus Esporte Valente - Masculino Kids</td>\n",
       "      <td>tenis olympikus esporte valente masculino kids</td>\n",
       "    </tr>\n",
       "    <tr>\n",
       "      <th>1</th>\n",
       "      <td>Bicicleta Barra Forte Samy C/ 6 Marchas Cubo C/ Rolamento</td>\n",
       "      <td>bicicleta barra forte samy c 6 marchas cubo c rolamento</td>\n",
       "    </tr>\n",
       "    <tr>\n",
       "      <th>2</th>\n",
       "      <td>Tênis Usthemp Slip-on Temático - Labrador 2</td>\n",
       "      <td>tenis usthemp slip on tematico labrador 2</td>\n",
       "    </tr>\n",
       "    <tr>\n",
       "      <th>3</th>\n",
       "      <td>Tênis Casual Feminino Moleca Tecido Tie Dye</td>\n",
       "      <td>tenis casual feminino moleca tecido tie dye</td>\n",
       "    </tr>\n",
       "    <tr>\n",
       "      <th>4</th>\n",
       "      <td>Tênis Star Baby Sapatinho Conforto + Brinde</td>\n",
       "      <td>tenis star baby sapatinho conforto brinde</td>\n",
       "    </tr>\n",
       "  </tbody>\n",
       "</table>\n",
       "</div>"
      ],
      "text/plain": [
       "                                              ITE_ITEM_TITLE  \\\n",
       "0           Tênis Olympikus Esporte Valente - Masculino Kids   \n",
       "1  Bicicleta Barra Forte Samy C/ 6 Marchas Cubo C/ Rolamento   \n",
       "2               Tênis Usthemp Slip-on Temático - Labrador 2   \n",
       "3                Tênis Casual Feminino Moleca Tecido Tie Dye   \n",
       "4                Tênis Star Baby Sapatinho Conforto + Brinde   \n",
       "\n",
       "                                           ITE_ITEM_TITLE_  \n",
       "0           tenis olympikus esporte valente masculino kids  \n",
       "1  bicicleta barra forte samy c 6 marchas cubo c rolamento  \n",
       "2                tenis usthemp slip on tematico labrador 2  \n",
       "3              tenis casual feminino moleca tecido tie dye  \n",
       "4                tenis star baby sapatinho conforto brinde  "
      ]
     },
     "execution_count": 24,
     "metadata": {},
     "output_type": "execute_result"
    }
   ],
   "source": [
    "df_titles_test.head()"
   ]
  },
  {
   "cell_type": "markdown",
   "metadata": {},
   "source": [
    "#### Implement the Tf-Idf approach, using unigrams "
   ]
  },
  {
   "cell_type": "code",
   "execution_count": 27,
   "metadata": {},
   "outputs": [],
   "source": [
    "tfidf = TfidfVectorizer(stop_words=stopwords,analyzer='word',ngram_range=(1, 1))                                                                                                                                                                                                   \n",
    "tfidf = tfidf.fit(df_titles['ITE_ITEM_TITLE_']) #Fit the original dataset, just \"regex cleaned\"\n",
    "tfidf_test = tfidf.transform(df_titles_test['ITE_ITEM_TITLE_']) #Transform the test set"
   ]
  },
  {
   "cell_type": "code",
   "execution_count": 28,
   "metadata": {
    "scrolled": true
   },
   "outputs": [
    {
     "data": {
      "text/plain": [
       "array(['tenis', 'feminino', 'masculino', 'casual', 'infantil', 'preto',\n",
       "       'sapatenis', 'original', 'branco', 'bicicleta', 'olympikus',\n",
       "       'couro', 'slip', 'promocao', 'on', 'confortavel', 'caminhada',\n",
       "       'academia', 'kit', 'aro', 'leve', 'azul', 'corrida', 'esportivo',\n",
       "       'rosa', 'sapatilha', 'conforto', 'lancamento', 'plataforma',\n",
       "       'usthemp', 'cano', 'marinho', 'pares', 'cadarco', '29', 'barato',\n",
       "       'bike', 'menina', 'led', 'mizuno', 'tv', 'star', 'meia', 'menino',\n",
       "       'alto', 'adidas', 'kolosh', 'nike', 'sapato', 'moleca', 'chunky',\n",
       "       'fila', 'vermelho', 'tematico', 'mtb', 'flatform', 'sola', 'facil',\n",
       "       'via', 'black', 'macio', 'gel', 'sneaker', 'asics', 'cinza',\n",
       "       'unissex', 'envio', 'calce', 'oferta', 'brinde', 'marte', 'all',\n",
       "       '20', 'elastico', 'super', 'vizzano', 'dia', 'new', 'wave', 'polo',\n",
       "       'molekinha', 'botinha', 'feminina', 'verde', '26', 'top',\n",
       "       'confort', 'skate', 'actvitta', 'frete', 'ref', 'legitimo', 'rio',\n",
       "       'gratis', 'moda', 'pegada', '12', 'beira', 'alta', 'tam'],\n",
       "      dtype='<U33')"
      ]
     },
     "execution_count": 28,
     "metadata": {},
     "output_type": "execute_result"
    }
   ],
   "source": [
    "#Checking most relevant terms\n",
    "importance = np.argsort(np.asarray(tfidf_test.sum(axis=0)).ravel())[::-1]\n",
    "tfidf_feature_names = np.array(tfidf.get_feature_names())\n",
    "top_100 = tfidf_feature_names[importance[:100]]\n",
    "top_100"
   ]
  },
  {
   "cell_type": "markdown",
   "metadata": {},
   "source": [
    "#### Implement the Tf-Idf approach, using ngrams range as (1,2) to consider some \"context\""
   ]
  },
  {
   "cell_type": "code",
   "execution_count": 29,
   "metadata": {},
   "outputs": [],
   "source": [
    "tfidf = TfidfVectorizer(stop_words=stopwords,analyzer='word',ngram_range=(1, 2))                                                                                                                                                                                                   \n",
    "tfidf = tfidf.fit(df_titles['ITE_ITEM_TITLE_'])  #Fit the original dataset, just \"regex cleaned\"\n",
    "tfidf_test = tfidf.transform(df_titles_test['ITE_ITEM_TITLE_']) #Transform the test set"
   ]
  },
  {
   "cell_type": "code",
   "execution_count": 30,
   "metadata": {},
   "outputs": [
    {
     "data": {
      "text/plain": [
       "array(['tenis', 'feminino', 'masculino', 'casual', 'tenis feminino',\n",
       "       'infantil', 'preto', 'sapatenis', 'original', 'tenis infantil',\n",
       "       'bicicleta', 'tenis masculino', 'branco', 'olympikus', 'couro',\n",
       "       'slip', 'on', 'promocao', 'slip on', 'aro', 'confortavel', 'kit',\n",
       "       'tenis casual', 'caminhada', 'academia', 'tenis olympikus', 'azul',\n",
       "       'sapatenis masculino', 'leve', 'sapatilha', 'corrida', 'rosa',\n",
       "       'esportivo', 'usthemp', 'conforto', 'plataforma', 'lancamento',\n",
       "       'feminino casual', 'cano', 'tenis usthemp', 'tv', '29', 'bike',\n",
       "       'marinho', 'pares', 'cadarco', 'led', 'menina', 'mizuno', 'adidas',\n",
       "       'nike', 'star', 'barato', 'casual feminino', 'alto', 'meia',\n",
       "       'kolosh', 'menino', 'moleca', 'sapato', 'tematico', 'vermelho',\n",
       "       'fila', 'bicicleta aro', 'chunky', 'infantil feminino', 'mtb',\n",
       "       'aro 29', 'tenis adidas', 'cano alto', 'black', 'gel', 'flatform',\n",
       "       'unissex', 'tenis slip', 'asics', 'sola', 'via', 'cinza',\n",
       "       'tenis mizuno', 'facil', 'sneaker', 'envio', 'casual masculino',\n",
       "       'macio', '20', 'infantil masculino', 'sapatenis casual', 'all',\n",
       "       'oferta', 'calce', 'kit pares', 'brinde', 'kit tenis', 'dia',\n",
       "       'marte', 'via marte', 'new', 'calce facil', 'tenis nike'],\n",
       "      dtype='<U40')"
      ]
     },
     "execution_count": 30,
     "metadata": {},
     "output_type": "execute_result"
    }
   ],
   "source": [
    "#Checking most relevant ngrams\n",
    "importance = np.argsort(np.asarray(tfidf_test.sum(axis=0)).ravel())[::-1]\n",
    "tfidf_feature_names = np.array(tfidf.get_feature_names())\n",
    "top_100 = tfidf_feature_names[importance[:100]]\n",
    "top_100"
   ]
  },
  {
   "cell_type": "markdown",
   "metadata": {},
   "source": [
    "##### Many relevant bigrams are in the top 100, lets keep 'em"
   ]
  },
  {
   "cell_type": "code",
   "execution_count": 31,
   "metadata": {},
   "outputs": [],
   "source": [
    "#Calculate similarity\n",
    "cosine_sim_matrix = cosine_similarity(tfidf_test, tfidf_test)"
   ]
  },
  {
   "cell_type": "code",
   "execution_count": 32,
   "metadata": {},
   "outputs": [
    {
     "data": {
      "application/vnd.jupyter.widget-view+json": {
       "model_id": "45ef383ad88c4167aa0b4053008a00d6",
       "version_major": 2,
       "version_minor": 0
      },
      "text/plain": [
       "HBox(children=(FloatProgress(value=1.0, bar_style='info', max=1.0), HTML(value='')))"
      ]
     },
     "metadata": {},
     "output_type": "display_data"
    }
   ],
   "source": [
    "#Compose results dataframe with original titles\n",
    "df_similarity = []\n",
    "tq_ = tqdm(len(cosine_sim_matrix))\n",
    "\n",
    "for i in range(0,len(cosine_sim_matrix)):\n",
    "    tq_.update(1)\n",
    "    for j in range(i,len(cosine_sim_matrix)):\n",
    "        row = [df_titles_test['ITE_ITEM_TITLE'][i],df_titles_test['ITE_ITEM_TITLE'][j],cosine_sim_matrix[i][j]]\n",
    "        df_similarity.append(row)\n",
    "        \n",
    "df_results = pd.DataFrame(df_similarity)"
   ]
  },
  {
   "cell_type": "code",
   "execution_count": 44,
   "metadata": {},
   "outputs": [],
   "source": [
    "#Format \n",
    "df_results.rename(columns={0:'ITE_ITEM_TITLE',1:'ITE_ITEM_TITLE',2:'Score Similitud (0,1)'},inplace=True)\n",
    "df_results = df_results.round({'Score Similitud (0,1)': 4})\n",
    "df_results = df_results[df_results['Score Similitud (0,1)']<1.0]\n",
    "df_results.sort_values('Score Similitud (0,1)',ascending=False,inplace=True)\n",
    "df_results.reset_index(drop=True,inplace=True)"
   ]
  },
  {
   "cell_type": "code",
   "execution_count": 45,
   "metadata": {},
   "outputs": [],
   "source": [
    "#Persist \n",
    "df_results.to_csv('titles_test_results_.csv',index=False)"
   ]
  },
  {
   "cell_type": "code",
   "execution_count": 46,
   "metadata": {},
   "outputs": [
    {
     "data": {
      "text/html": [
       "<div>\n",
       "<style scoped>\n",
       "    .dataframe tbody tr th:only-of-type {\n",
       "        vertical-align: middle;\n",
       "    }\n",
       "\n",
       "    .dataframe tbody tr th {\n",
       "        vertical-align: top;\n",
       "    }\n",
       "\n",
       "    .dataframe thead th {\n",
       "        text-align: right;\n",
       "    }\n",
       "</style>\n",
       "<table border=\"1\" class=\"dataframe\">\n",
       "  <thead>\n",
       "    <tr style=\"text-align: right;\">\n",
       "      <th></th>\n",
       "      <th>ITE_ITEM_TITLE</th>\n",
       "      <th>ITE_ITEM_TITLE</th>\n",
       "      <th>Score Similitud (0,1)</th>\n",
       "    </tr>\n",
       "  </thead>\n",
       "  <tbody>\n",
       "    <tr>\n",
       "      <th>0</th>\n",
       "      <td>Tênis adidas Terrex Ax3 - Feminino</td>\n",
       "      <td>Tênis adidas Terrex Ax3</td>\n",
       "      <td>0.9947</td>\n",
       "    </tr>\n",
       "    <tr>\n",
       "      <th>1</th>\n",
       "      <td>Tênis Skechers M Go Walk Evolution Ultra</td>\n",
       "      <td>Tenis Skechers Go Walk Evolution Ultra Impeccable Masculino</td>\n",
       "      <td>0.9937</td>\n",
       "    </tr>\n",
       "    <tr>\n",
       "      <th>2</th>\n",
       "      <td>Tenis Skechers Go Walk Evolution Ultra Impeccable Masculino</td>\n",
       "      <td>Tênis Skechers Go Walk Evolution Ultra</td>\n",
       "      <td>0.9937</td>\n",
       "    </tr>\n",
       "    <tr>\n",
       "      <th>3</th>\n",
       "      <td>Tênis adidas Response Super Boost M Fy8746</td>\n",
       "      <td>Tenis adidas Response Super Boost Masculino</td>\n",
       "      <td>0.9928</td>\n",
       "    </tr>\n",
       "    <tr>\n",
       "      <th>4</th>\n",
       "      <td>Tênis Skechers M Go Walk Evolution Ultra</td>\n",
       "      <td>Tênis Skechers Go Walk Evolution Ultra - Original</td>\n",
       "      <td>0.9903</td>\n",
       "    </tr>\n",
       "    <tr>\n",
       "      <th>5</th>\n",
       "      <td>Tênis Skechers Go Walk Evolution Ultra</td>\n",
       "      <td>Tênis Skechers Go Walk Evolution Ultra - Original</td>\n",
       "      <td>0.9903</td>\n",
       "    </tr>\n",
       "    <tr>\n",
       "      <th>6</th>\n",
       "      <td>Tenis Skechers Go Walk Evolution Ultra Impeccable Masculino</td>\n",
       "      <td>Tênis Skechers Go Walk Evolution Ultra - Original</td>\n",
       "      <td>0.9841</td>\n",
       "    </tr>\n",
       "    <tr>\n",
       "      <th>7</th>\n",
       "      <td>Hd322hj Usado</td>\n",
       "      <td>Tenis Aldo Usado</td>\n",
       "      <td>0.9822</td>\n",
       "    </tr>\n",
       "    <tr>\n",
       "      <th>8</th>\n",
       "      <td>Bicicleta Aro 26 Ultra Bikes Feminina Bicolor</td>\n",
       "      <td>Bicicleta Aro 26 Ultra Bikes Feminina Bicolor Moutain Bike</td>\n",
       "      <td>0.9815</td>\n",
       "    </tr>\n",
       "    <tr>\n",
       "      <th>9</th>\n",
       "      <td>Tênis Asics Gel Resolution 8 Clay Masculino - Saibro- New</td>\n",
       "      <td>Tênis Asics Gel Resolution 8 Clay Masculino Saibro</td>\n",
       "      <td>0.9789</td>\n",
       "    </tr>\n",
       "    <tr>\n",
       "      <th>10</th>\n",
       "      <td>Tenis Casual Kolosh C0638a Feminino</td>\n",
       "      <td>Tenis Casual Kolosh</td>\n",
       "      <td>0.9780</td>\n",
       "    </tr>\n",
       "    <tr>\n",
       "      <th>11</th>\n",
       "      <td>Sapatilha Mtb Bike Avva Preta 3 Velcros Ciclismo</td>\n",
       "      <td>Sapatilha Mtb Bike Avva Preta 3 Velcros</td>\n",
       "      <td>0.9778</td>\n",
       "    </tr>\n",
       "    <tr>\n",
       "      <th>12</th>\n",
       "      <td>Tenis Skechers Max Cushioning Premier Feminino</td>\n",
       "      <td>Tênis Skechers Max Cushioning Premier Masculino - Masculino</td>\n",
       "      <td>0.9733</td>\n",
       "    </tr>\n",
       "    <tr>\n",
       "      <th>13</th>\n",
       "      <td>Tênis Feminino Activitta  Tecido</td>\n",
       "      <td>Tênis Feminino Activitta  Tecido Confortável</td>\n",
       "      <td>0.9730</td>\n",
       "    </tr>\n",
       "    <tr>\n",
       "      <th>14</th>\n",
       "      <td>Mountain Bike Spaceline Vega 2021 Aro 29 17  21v Freios De Disco Mecânico Câmbios Indexado Y Shimano Indexado Cor Preto/cinza</td>\n",
       "      <td>Mountain Bike Spaceline Vega 2021 Aro 29 17  21v Freios De Disco Mecânico Câmbios Indexado Y Shimano Indexado Cor Preto/verde</td>\n",
       "      <td>0.9677</td>\n",
       "    </tr>\n",
       "    <tr>\n",
       "      <th>15</th>\n",
       "      <td>Tênis Under Armour Architech Futurist</td>\n",
       "      <td>Tênis Under Armour Infantil</td>\n",
       "      <td>0.9672</td>\n",
       "    </tr>\n",
       "    <tr>\n",
       "      <th>16</th>\n",
       "      <td>Tênis Schutz S212720003 Preto</td>\n",
       "      <td>Tênis Schutz.</td>\n",
       "      <td>0.9647</td>\n",
       "    </tr>\n",
       "    <tr>\n",
       "      <th>17</th>\n",
       "      <td>Tênis - Schutz</td>\n",
       "      <td>Tênis Schutz S212720003 Preto</td>\n",
       "      <td>0.9647</td>\n",
       "    </tr>\n",
       "    <tr>\n",
       "      <th>18</th>\n",
       "      <td>Tênis Schutz S212720003 Preto</td>\n",
       "      <td>Tenis Schutz S212510005</td>\n",
       "      <td>0.9647</td>\n",
       "    </tr>\n",
       "    <tr>\n",
       "      <th>19</th>\n",
       "      <td>Bicicleta Sense Criterium Race 2020</td>\n",
       "      <td>Bicicleta Sense Criterium Race</td>\n",
       "      <td>0.9635</td>\n",
       "    </tr>\n",
       "    <tr>\n",
       "      <th>20</th>\n",
       "      <td>Tênis Kolosh C2542</td>\n",
       "      <td>Tênis Kolosh Worthy Feminino - K8485</td>\n",
       "      <td>0.9628</td>\n",
       "    </tr>\n",
       "    <tr>\n",
       "      <th>21</th>\n",
       "      <td>Tênis Hocks Galactica Grafite/white</td>\n",
       "      <td>Tênis Hocks Galactica Grafite</td>\n",
       "      <td>0.9581</td>\n",
       "    </tr>\n",
       "    <tr>\n",
       "      <th>22</th>\n",
       "      <td>Tênis Calce Facil Adrun Flex Power Ortopédico Solado Leve Mt</td>\n",
       "      <td>Tênis Calce Facil Adrun Flex Power Ortopédico Solado Leve</td>\n",
       "      <td>0.9567</td>\n",
       "    </tr>\n",
       "    <tr>\n",
       "      <th>23</th>\n",
       "      <td>Tênis Nike Runallday 2 Feminino</td>\n",
       "      <td>Tênis Nike.</td>\n",
       "      <td>0.9559</td>\n",
       "    </tr>\n",
       "    <tr>\n",
       "      <th>24</th>\n",
       "      <td>Tênis Nike.</td>\n",
       "      <td>Tênis Nike Runallday Feminino</td>\n",
       "      <td>0.9559</td>\n",
       "    </tr>\n",
       "    <tr>\n",
       "      <th>25</th>\n",
       "      <td>Botinha Feminina Bota Treino Academia Fitness Dança Leve</td>\n",
       "      <td>Tênis Botinha Feminina Bota Treino Academia Fitness Dança</td>\n",
       "      <td>0.9550</td>\n",
       "    </tr>\n",
       "    <tr>\n",
       "      <th>26</th>\n",
       "      <td>Tenis Plataforma Jeans Feminino Com Ziper-pronta Entrega 24h</td>\n",
       "      <td>Tênis Plataforma Jeans Feminino Com Zíper Pronta Entrega</td>\n",
       "      <td>0.9550</td>\n",
       "    </tr>\n",
       "    <tr>\n",
       "      <th>27</th>\n",
       "      <td>Tenis Plataforma Jeans Feminino Com Ziper-pronta Entrega 24h</td>\n",
       "      <td>Tênis Plataforma Jeans Feminino  Com Zíper-pronta Entrega</td>\n",
       "      <td>0.9550</td>\n",
       "    </tr>\n",
       "    <tr>\n",
       "      <th>28</th>\n",
       "      <td>Tênis Hocks Solo - Black/white Original + Frete Grátis</td>\n",
       "      <td>Tênis Hocks Solo - Black/white Original + Frete</td>\n",
       "      <td>0.9526</td>\n",
       "    </tr>\n",
       "    <tr>\n",
       "      <th>29</th>\n",
       "      <td>Tênis Corrida Mizuno Wave Creation 22 Masculino Azul</td>\n",
       "      <td>Tênis Corrida Mizuno Wave Creation 22 Masculino Azul Marinho</td>\n",
       "      <td>0.9524</td>\n",
       "    </tr>\n",
       "    <tr>\n",
       "      <th>30</th>\n",
       "      <td>Tenis Asics Gel-shougun 3 Feminino</td>\n",
       "      <td>Tênis Asics Gel-bnd Masculino</td>\n",
       "      <td>0.9520</td>\n",
       "    </tr>\n",
       "    <tr>\n",
       "      <th>31</th>\n",
       "      <td>Tenis Dg G3 Porto Branco Deg Verde Limao Shoes</td>\n",
       "      <td>Tenis Dg G3 Porto Branco Deg Verde Limao Gold</td>\n",
       "      <td>0.9501</td>\n",
       "    </tr>\n",
       "    <tr>\n",
       "      <th>32</th>\n",
       "      <td>Tênis Feminino Kolosh C2783 Preto</td>\n",
       "      <td>Tênis Feminino Kolosh C1323a</td>\n",
       "      <td>0.9493</td>\n",
       "    </tr>\n",
       "    <tr>\n",
       "      <th>33</th>\n",
       "      <td>Tênis Feminino Kolosh C2783 Preto</td>\n",
       "      <td>Tênis Feminino Kolosh Arya</td>\n",
       "      <td>0.9493</td>\n",
       "    </tr>\n",
       "    <tr>\n",
       "      <th>34</th>\n",
       "      <td>Tenis Skechers Max Cushioning Premier Feminino</td>\n",
       "      <td>Tênis Skechers Max Cushioning Premier Feminino Corrida - Cam</td>\n",
       "      <td>0.9476</td>\n",
       "    </tr>\n",
       "    <tr>\n",
       "      <th>35</th>\n",
       "      <td>Tênis Puma Flyer Runner Masculino - 195060-02</td>\n",
       "      <td>Tênis Puma Flyer Runner Masculino</td>\n",
       "      <td>0.9464</td>\n",
       "    </tr>\n",
       "    <tr>\n",
       "      <th>36</th>\n",
       "      <td>Tenis Infantil Tênis Infantil Feminino Brinde Bolsa Premium</td>\n",
       "      <td>Tenis Infantil Tênis Infantil Feminino Brinde Bolsa A Plataf</td>\n",
       "      <td>0.9453</td>\n",
       "    </tr>\n",
       "    <tr>\n",
       "      <th>37</th>\n",
       "      <td>Tênis Infantil Olympikus Enjoy Branco 43257726</td>\n",
       "      <td>Tênis Infantil Olympikus Enjoy.</td>\n",
       "      <td>0.9431</td>\n",
       "    </tr>\n",
       "    <tr>\n",
       "      <th>38</th>\n",
       "      <td>Tênis Feminino Slip On Via Marte 2111303 Branco 1645</td>\n",
       "      <td>Tênis Feminino Slip On Via Marte 2111303 Rose 1564</td>\n",
       "      <td>0.9422</td>\n",
       "    </tr>\n",
       "    <tr>\n",
       "      <th>39</th>\n",
       "      <td>Tênis Rodinha Masculino Avengers Preto</td>\n",
       "      <td>Tênis De Rodinha</td>\n",
       "      <td>0.9418</td>\n",
       "    </tr>\n",
       "    <tr>\n",
       "      <th>40</th>\n",
       "      <td>Tenis Columbia Firecamp Remesh</td>\n",
       "      <td>Tênis Columbia Firecamp Remesh Masculino - Azul</td>\n",
       "      <td>0.9390</td>\n",
       "    </tr>\n",
       "    <tr>\n",
       "      <th>41</th>\n",
       "      <td>Tênis Feminino Em Couro Legítimo Polo Urban 29</td>\n",
       "      <td>Tênis Feminino Em Couro Legítimo Polo Urban 20</td>\n",
       "      <td>0.9388</td>\n",
       "    </tr>\n",
       "    <tr>\n",
       "      <th>42</th>\n",
       "      <td>Tênis Coca Cola</td>\n",
       "      <td>Tênis Coca-cola Hampton Azul</td>\n",
       "      <td>0.9372</td>\n",
       "    </tr>\n",
       "    <tr>\n",
       "      <th>43</th>\n",
       "      <td>Tênis Coca Cola Cc1862</td>\n",
       "      <td>Tênis Coca-cola Hampton Azul</td>\n",
       "      <td>0.9372</td>\n",
       "    </tr>\n",
       "    <tr>\n",
       "      <th>44</th>\n",
       "      <td>Tenis Umbro Neptune Br</td>\n",
       "      <td>Tênis Umbro Neptune Preto</td>\n",
       "      <td>0.9356</td>\n",
       "    </tr>\n",
       "    <tr>\n",
       "      <th>45</th>\n",
       "      <td>Tênis Nádia Talita - Branco - 105797</td>\n",
       "      <td>Tênis Nádia Talita 8.338 Nude</td>\n",
       "      <td>0.9351</td>\n",
       "    </tr>\n",
       "    <tr>\n",
       "      <th>46</th>\n",
       "      <td>Tênis Asics Patriot 12 Feminino</td>\n",
       "      <td>Tênis Asics Patriot 12 Feminino Tr</td>\n",
       "      <td>0.9334</td>\n",
       "    </tr>\n",
       "    <tr>\n",
       "      <th>47</th>\n",
       "      <td>Tênis Nike Air Max 90 37</td>\n",
       "      <td>Tênis Nike Air Max 90 Preto</td>\n",
       "      <td>0.9328</td>\n",
       "    </tr>\n",
       "    <tr>\n",
       "      <th>48</th>\n",
       "      <td>Tenis Masculino Basquete Six Street Fly Preto</td>\n",
       "      <td>Tenis Masculino Basquete Six Street Fly Preto + Brinde !</td>\n",
       "      <td>0.9283</td>\n",
       "    </tr>\n",
       "    <tr>\n",
       "      <th>49</th>\n",
       "      <td>Tenis Vert V-10 Verde Agua</td>\n",
       "      <td>Tenis Vert V-10 Verde Agua T.luxury</td>\n",
       "      <td>0.9273</td>\n",
       "    </tr>\n",
       "  </tbody>\n",
       "</table>\n",
       "</div>"
      ],
      "text/plain": [
       "                                                                                                                   ITE_ITEM_TITLE  \\\n",
       "0                                                                                              Tênis adidas Terrex Ax3 - Feminino   \n",
       "1                                                                                        Tênis Skechers M Go Walk Evolution Ultra   \n",
       "2                                                                     Tenis Skechers Go Walk Evolution Ultra Impeccable Masculino   \n",
       "3                                                                                      Tênis adidas Response Super Boost M Fy8746   \n",
       "4                                                                                        Tênis Skechers M Go Walk Evolution Ultra   \n",
       "5                                                                                          Tênis Skechers Go Walk Evolution Ultra   \n",
       "6                                                                     Tenis Skechers Go Walk Evolution Ultra Impeccable Masculino   \n",
       "7                                                                                                                  Hd322hj Usado    \n",
       "8                                                                                   Bicicleta Aro 26 Ultra Bikes Feminina Bicolor   \n",
       "9                                                                       Tênis Asics Gel Resolution 8 Clay Masculino - Saibro- New   \n",
       "10                                                                                            Tenis Casual Kolosh C0638a Feminino   \n",
       "11                                                                               Sapatilha Mtb Bike Avva Preta 3 Velcros Ciclismo   \n",
       "12                                                                                 Tenis Skechers Max Cushioning Premier Feminino   \n",
       "13                                                                                               Tênis Feminino Activitta  Tecido   \n",
       "14  Mountain Bike Spaceline Vega 2021 Aro 29 17  21v Freios De Disco Mecânico Câmbios Indexado Y Shimano Indexado Cor Preto/cinza   \n",
       "15                                                                                          Tênis Under Armour Architech Futurist   \n",
       "16                                                                                                  Tênis Schutz S212720003 Preto   \n",
       "17                                                                                                                Tênis - Schutz    \n",
       "18                                                                                                  Tênis Schutz S212720003 Preto   \n",
       "19                                                                                            Bicicleta Sense Criterium Race 2020   \n",
       "20                                                                                                             Tênis Kolosh C2542   \n",
       "21                                                                                            Tênis Hocks Galactica Grafite/white   \n",
       "22                                                                   Tênis Calce Facil Adrun Flex Power Ortopédico Solado Leve Mt   \n",
       "23                                                                                                Tênis Nike Runallday 2 Feminino   \n",
       "24                                                                                                                    Tênis Nike.   \n",
       "25                                                                       Botinha Feminina Bota Treino Academia Fitness Dança Leve   \n",
       "26                                                                   Tenis Plataforma Jeans Feminino Com Ziper-pronta Entrega 24h   \n",
       "27                                                                   Tenis Plataforma Jeans Feminino Com Ziper-pronta Entrega 24h   \n",
       "28                                                                         Tênis Hocks Solo - Black/white Original + Frete Grátis   \n",
       "29                                                                           Tênis Corrida Mizuno Wave Creation 22 Masculino Azul   \n",
       "30                                                                                             Tenis Asics Gel-shougun 3 Feminino   \n",
       "31                                                                                 Tenis Dg G3 Porto Branco Deg Verde Limao Shoes   \n",
       "32                                                                                              Tênis Feminino Kolosh C2783 Preto   \n",
       "33                                                                                              Tênis Feminino Kolosh C2783 Preto   \n",
       "34                                                                                 Tenis Skechers Max Cushioning Premier Feminino   \n",
       "35                                                                                  Tênis Puma Flyer Runner Masculino - 195060-02   \n",
       "36                                                                    Tenis Infantil Tênis Infantil Feminino Brinde Bolsa Premium   \n",
       "37                                                                                 Tênis Infantil Olympikus Enjoy Branco 43257726   \n",
       "38                                                                           Tênis Feminino Slip On Via Marte 2111303 Branco 1645   \n",
       "39                                                                                         Tênis Rodinha Masculino Avengers Preto   \n",
       "40                                                                                                 Tenis Columbia Firecamp Remesh   \n",
       "41                                                                                 Tênis Feminino Em Couro Legítimo Polo Urban 29   \n",
       "42                                                                                                               Tênis Coca Cola    \n",
       "43                                                                                                         Tênis Coca Cola Cc1862   \n",
       "44                                                                                                         Tenis Umbro Neptune Br   \n",
       "45                                                                                           Tênis Nádia Talita - Branco - 105797   \n",
       "46                                                                                                Tênis Asics Patriot 12 Feminino   \n",
       "47                                                                                                       Tênis Nike Air Max 90 37   \n",
       "48                                                                                 Tenis Masculino Basquete Six Street Fly Preto    \n",
       "49                                                                                                     Tenis Vert V-10 Verde Agua   \n",
       "\n",
       "                                                                                                                   ITE_ITEM_TITLE  \\\n",
       "0                                                                                                         Tênis adidas Terrex Ax3   \n",
       "1                                                                     Tenis Skechers Go Walk Evolution Ultra Impeccable Masculino   \n",
       "2                                                                                          Tênis Skechers Go Walk Evolution Ultra   \n",
       "3                                                                                     Tenis adidas Response Super Boost Masculino   \n",
       "4                                                                               Tênis Skechers Go Walk Evolution Ultra - Original   \n",
       "5                                                                               Tênis Skechers Go Walk Evolution Ultra - Original   \n",
       "6                                                                               Tênis Skechers Go Walk Evolution Ultra - Original   \n",
       "7                                                                                                                Tenis Aldo Usado   \n",
       "8                                                                      Bicicleta Aro 26 Ultra Bikes Feminina Bicolor Moutain Bike   \n",
       "9                                                                              Tênis Asics Gel Resolution 8 Clay Masculino Saibro   \n",
       "10                                                                                                            Tenis Casual Kolosh   \n",
       "11                                                                                        Sapatilha Mtb Bike Avva Preta 3 Velcros   \n",
       "12                                                                   Tênis Skechers Max Cushioning Premier Masculino - Masculino    \n",
       "13                                                                                   Tênis Feminino Activitta  Tecido Confortável   \n",
       "14  Mountain Bike Spaceline Vega 2021 Aro 29 17  21v Freios De Disco Mecânico Câmbios Indexado Y Shimano Indexado Cor Preto/verde   \n",
       "15                                                                                                    Tênis Under Armour Infantil   \n",
       "16                                                                                                                  Tênis Schutz.   \n",
       "17                                                                                                  Tênis Schutz S212720003 Preto   \n",
       "18                                                                                                        Tenis Schutz S212510005   \n",
       "19                                                                                                 Bicicleta Sense Criterium Race   \n",
       "20                                                                                           Tênis Kolosh Worthy Feminino - K8485   \n",
       "21                                                                                                  Tênis Hocks Galactica Grafite   \n",
       "22                                                                     Tênis Calce Facil Adrun Flex Power Ortopédico Solado Leve    \n",
       "23                                                                                                                    Tênis Nike.   \n",
       "24                                                                                                  Tênis Nike Runallday Feminino   \n",
       "25                                                                      Tênis Botinha Feminina Bota Treino Academia Fitness Dança   \n",
       "26                                                                       Tênis Plataforma Jeans Feminino Com Zíper Pronta Entrega   \n",
       "27                                                                      Tênis Plataforma Jeans Feminino  Com Zíper-pronta Entrega   \n",
       "28                                                                                Tênis Hocks Solo - Black/white Original + Frete   \n",
       "29                                                                   Tênis Corrida Mizuno Wave Creation 22 Masculino Azul Marinho   \n",
       "30                                                                                                  Tênis Asics Gel-bnd Masculino   \n",
       "31                                                                                  Tenis Dg G3 Porto Branco Deg Verde Limao Gold   \n",
       "32                                                                                                   Tênis Feminino Kolosh C1323a   \n",
       "33                                                                                                     Tênis Feminino Kolosh Arya   \n",
       "34                                                                   Tênis Skechers Max Cushioning Premier Feminino Corrida - Cam   \n",
       "35                                                                                              Tênis Puma Flyer Runner Masculino   \n",
       "36                                                                   Tenis Infantil Tênis Infantil Feminino Brinde Bolsa A Plataf   \n",
       "37                                                                                                Tênis Infantil Olympikus Enjoy.   \n",
       "38                                                                             Tênis Feminino Slip On Via Marte 2111303 Rose 1564   \n",
       "39                                                                                                               Tênis De Rodinha   \n",
       "40                                                                                Tênis Columbia Firecamp Remesh Masculino - Azul   \n",
       "41                                                                                 Tênis Feminino Em Couro Legítimo Polo Urban 20   \n",
       "42                                                                                                   Tênis Coca-cola Hampton Azul   \n",
       "43                                                                                                   Tênis Coca-cola Hampton Azul   \n",
       "44                                                                                                      Tênis Umbro Neptune Preto   \n",
       "45                                                                                                  Tênis Nádia Talita 8.338 Nude   \n",
       "46                                                                                             Tênis Asics Patriot 12 Feminino Tr   \n",
       "47                                                                                                    Tênis Nike Air Max 90 Preto   \n",
       "48                                                                       Tenis Masculino Basquete Six Street Fly Preto + Brinde !   \n",
       "49                                                                                            Tenis Vert V-10 Verde Agua T.luxury   \n",
       "\n",
       "    Score Similitud (0,1)  \n",
       "0                  0.9947  \n",
       "1                  0.9937  \n",
       "2                  0.9937  \n",
       "3                  0.9928  \n",
       "4                  0.9903  \n",
       "5                  0.9903  \n",
       "6                  0.9841  \n",
       "7                  0.9822  \n",
       "8                  0.9815  \n",
       "9                  0.9789  \n",
       "10                 0.9780  \n",
       "11                 0.9778  \n",
       "12                 0.9733  \n",
       "13                 0.9730  \n",
       "14                 0.9677  \n",
       "15                 0.9672  \n",
       "16                 0.9647  \n",
       "17                 0.9647  \n",
       "18                 0.9647  \n",
       "19                 0.9635  \n",
       "20                 0.9628  \n",
       "21                 0.9581  \n",
       "22                 0.9567  \n",
       "23                 0.9559  \n",
       "24                 0.9559  \n",
       "25                 0.9550  \n",
       "26                 0.9550  \n",
       "27                 0.9550  \n",
       "28                 0.9526  \n",
       "29                 0.9524  \n",
       "30                 0.9520  \n",
       "31                 0.9501  \n",
       "32                 0.9493  \n",
       "33                 0.9493  \n",
       "34                 0.9476  \n",
       "35                 0.9464  \n",
       "36                 0.9453  \n",
       "37                 0.9431  \n",
       "38                 0.9422  \n",
       "39                 0.9418  \n",
       "40                 0.9390  \n",
       "41                 0.9388  \n",
       "42                 0.9372  \n",
       "43                 0.9372  \n",
       "44                 0.9356  \n",
       "45                 0.9351  \n",
       "46                 0.9334  \n",
       "47                 0.9328  \n",
       "48                 0.9283  \n",
       "49                 0.9273  "
      ]
     },
     "execution_count": 46,
     "metadata": {},
     "output_type": "execute_result"
    }
   ],
   "source": [
    "#Check top 50 matches\n",
    "df_results.head(50)"
   ]
  }
 ],
 "metadata": {
  "kernelspec": {
   "display_name": "Python 3",
   "language": "python",
   "name": "python3"
  },
  "language_info": {
   "codemirror_mode": {
    "name": "ipython",
    "version": 3
   },
   "file_extension": ".py",
   "mimetype": "text/x-python",
   "name": "python",
   "nbconvert_exporter": "python",
   "pygments_lexer": "ipython3",
   "version": "3.8.3"
  }
 },
 "nbformat": 4,
 "nbformat_minor": 4
}
